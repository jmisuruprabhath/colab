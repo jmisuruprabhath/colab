{
 "cells": [
  {
   "cell_type": "code",
   "execution_count": null,
   "id": "49d0f3a8-1157-45d1-a54e-a44ff7d6a743",
   "metadata": {},
   "outputs": [],
   "source": [
    "import requests\n",
    "import lxml\n",
    "from bs4 import BeautifulSoup\n",
    "from xlwt import *\n",
    "\n",
    "workbook = Workbook(encoding = 'utf-8')\n",
    "table = workbook.add_sheet('data')\n",
    "table.write(0, 0, 'Product Number')\n",
    "table.write(0, 1, 'Product Name')\n",
    "table.write(0, 2, 'New Price')\n",
    "table.write(0, 3, 'Old Price')\n",
    "table.write(0, 4, 'discount')\n",
    "line = 1\n",
    "\n",
    "url = \"https://www.guessfactory.com/us/en/sale/women/view-all\"\n",
    "headers = {\n",
    "  'User-Agent': 'Mozilla/5.0 (Windows NT 6.1; WOW64) AppleWebKit/537.36 (KHTML, like Gecko) Chrome/63.0.3239.132 Safari/537.36 QIHU 360SE'\n",
    "}\n",
    "f = requests.get(url, headers = headers)\n",
    "products_lst = []\n",
    "soup = BeautifulSoup(f.content, 'lxml')\n",
    "products = soup.find_all('div', {'class': 'product-grid__column'})\n",
    "#print(products)\n",
    "\n",
    "num = 0\n",
    "for product in products:\n",
    "    product_cod = product.find('a')['href']\n",
    "    product_code = product_cod.split(\"/\")\n",
    "    \n",
    "    product_name = product.find('a', {'class': 'link product-tile__link'})\n",
    "    new_price = product.find('span', {'class': 'price__red-color text-nowrap'})\n",
    "    old_price = product.find('span', {'class': 'price__strike-through'})\n",
    "    discount = product.find('div', {'class': 'price__red-color d-inline-block text-nowrap'})\n",
    "    print(num, '\\n', 'Product: ' + product_name.string.strip())\n",
    "    print('\\n', product_code[len(product_code)-1])\n",
    "    print('\\n', new_price.string.strip())\n",
    "    print('\\n', old_price.string.strip())\n",
    "    print('\\n', discount.string.strip())\n",
    "    num += 1\n",
    "    table.write(line, 0, num)\n",
    "    table.write(line, 1, product_name.string.strip())\n",
    "    table.write(line, 2, new_price.string.strip())\n",
    "    table.write(line, 3, old_price.string.strip())\n",
    "    table.write(line, 4, discount.string.strip())\n",
    "    line += 1\n",
    "    workbook.save('GuessFactory_Products.xls')"
   ]
  }
 ],
 "metadata": {
  "kernelspec": {
   "display_name": "Python 3 (ipykernel)",
   "language": "python",
   "name": "python3"
  },
  "language_info": {
   "codemirror_mode": {
    "name": "ipython",
    "version": 3
   },
   "file_extension": ".py",
   "mimetype": "text/x-python",
   "name": "python",
   "nbconvert_exporter": "python",
   "pygments_lexer": "ipython3",
   "version": "3.9.12"
  }
 },
 "nbformat": 4,
 "nbformat_minor": 5
}
